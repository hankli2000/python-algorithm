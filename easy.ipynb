{
 "cells": [
  {
   "cell_type": "code",
   "execution_count": 1,
   "id": "daefb2b9-5a64-4b7c-8b78-1bca619f387c",
   "metadata": {},
   "outputs": [],
   "source": [
    "import pandas as pd"
   ]
  },
  {
   "cell_type": "code",
   "execution_count": null,
   "id": "e13140de-83c1-4d97-a21b-bd6921c77a17",
   "metadata": {},
   "outputs": [],
   "source": []
  },
  {
   "cell_type": "code",
   "execution_count": null,
   "id": "ee9290ba-4d9d-4a23-b9ba-e795a4ff1d7d",
   "metadata": {},
   "outputs": [],
   "source": [
    "'''\n",
    "Given an unsorted array of integers nums, return the length of the longest continuous increasing subsequence (i.e. subarray). \n",
    "The subsequence must be strictly increasing.\n",
    "\n",
    "A continuous increasing subsequence is defined by two indices l and r (l < r) such that it is \n",
    "[nums[l], nums[l + 1], ..., nums[r - 1], nums[r]] and for each l <= i < r, nums[i] < nums[i + 1].\n",
    "\n",
    " \n",
    "\n",
    "Example 1:\n",
    "\n",
    "Input: nums = [1,3,5,4,7]\n",
    "Output: 3\n",
    "Explanation: The longest continuous increasing subsequence is [1,3,5] with length 3.\n",
    "Even though [1,3,5,7] is an increasing subsequence, it is not continuous as elements 5 and 7 are separated by element\n",
    "4.\n",
    "Example 2:\n",
    "\n",
    "Input: nums = [2,2,2,2,2]\n",
    "Output: 1\n",
    "Explanation: The longest continuous increasing subsequence is [2] with length 1. Note that it must be strictly\n",
    "increasing.\n",
    " \n",
    "\n",
    "Constraints:\n",
    "\n",
    "1 <= nums.length <= 104\n",
    "-109 <= nums[i] <= 109\n",
    "'''"
   ]
  },
  {
   "cell_type": "code",
   "execution_count": 53,
   "id": "0a3b2b18-b5bc-40a8-be19-8470e2557618",
   "metadata": {},
   "outputs": [],
   "source": [
    "from typing import List\n",
    "class Solution:\n",
    "    def findLengthOfLCIS(self, nums: List[int]) -> int:\n",
    "        result = 1 # set init value\n",
    "        if len(nums)==0:\n",
    "            return 0\n",
    "        if len(nums)==1:\n",
    "            return 1\n",
    "        print(f'init result={result}')\n",
    "        pre_interval = None\n",
    "        pre_num = None\n",
    "        count = 0\n",
    "        for i in nums:\n",
    "            print(f'i={i}')\n",
    "            if pre_num is None: # first number\n",
    "                pre_num = i\n",
    "                count = 1\n",
    "                result=1\n",
    "                print(f'i={i}, result={result}')\n",
    "                continue\n",
    "            interval = i - pre_num\n",
    "            pre_num = i\n",
    "            if pre_interval is None: # second number\n",
    "                pre_interval = interval\n",
    "                if interval>0:\n",
    "                    count=2\n",
    "                    result=2\n",
    "                else:\n",
    "                    count=1\n",
    "                    result=1\n",
    "                print(f'i={i}, result={result}')\n",
    "                continue\n",
    "            if interval == pre_interval and interval > 0:\n",
    "                count += 1\n",
    "                print(f'i={i}, inc count={count}')\n",
    "                if count>result:\n",
    "                    result = count\n",
    "                    print(f'i={i}, result={result}')\n",
    "            else:\n",
    "                if count > result:\n",
    "                    result = count\n",
    "                    print(f'result={result}')\n",
    "                count=0\n",
    "                pre_interval = interval\n",
    "                if interval > 0:\n",
    "                    count = 2\n",
    "                    if count>result:\n",
    "                        result=count\n",
    "                print(f'reset count={count}, i={i}')\n",
    "        return result  \n",
    "            "
   ]
  },
  {
   "cell_type": "code",
   "execution_count": 57,
   "id": "3f7c87a5-6fc4-4280-a671-32fc8a074056",
   "metadata": {},
   "outputs": [],
   "source": [
    "#answer\n",
    "class Solution(object):\n",
    "    def findLengthOfLCIS(self, nums):\n",
    "        result = 0\n",
    "        l = 0\n",
    "        for i in range(len(nums)):\n",
    "            if i and nums[i-1] >= nums[i]: \n",
    "                l = i\n",
    "            result = max(result, i - l + 1)\n",
    "        return result"
   ]
  },
  {
   "cell_type": "code",
   "execution_count": 58,
   "id": "f42f02bc-3128-4b53-84e3-fff3ee4a7e96",
   "metadata": {},
   "outputs": [
    {
     "name": "stdout",
     "output_type": "stream",
     "text": [
      "[1, 3, 5, 4, 7]\n",
      "3\n",
      "[2, 2, 2, 2, 2]\n",
      "1\n",
      "[1, 3, 5, 7]\n",
      "4\n",
      "[2, 1, 3]\n",
      "2\n",
      "[1, 2, 5, 8, 0]\n",
      "4\n"
     ]
    }
   ],
   "source": [
    "#nums = [1,3,5,4,7], \n",
    "#nums = [2, 2, 2, 2, 2]\n",
    "#nums=[1,3,5,7]\n",
    "#nums=[1,3,5,4,2,3,4,5]\n",
    "#num=[2,1,3], 2\n",
    "\n",
    "def test(nums, expected):\n",
    "    s = Solution()\n",
    "    t = s.findLengthOfLCIS(nums)\n",
    "    print(nums)\n",
    "    print(t)\n",
    "    assert t == expected\n",
    "test([1,3,5,4,7], 3)\n",
    "test([2, 2, 2, 2, 2], 1)\n",
    "test([1,3,5,7], 4)\n",
    "test([2,1,3], 2)\n",
    "test([1,2,5,8,0], 4)\n"
   ]
  },
  {
   "cell_type": "code",
   "execution_count": null,
   "id": "11cea6bd-9745-4033-bc2a-ef29e2bf0325",
   "metadata": {},
   "outputs": [],
   "source": [
    "'''\n",
    "You are given an array prices where prices[i] is the price of a given stock on the ith day.\n",
    "\n",
    "You want to maximize your profit by choosing a single day to buy one stock and choosing a different day in the future to sell that stock.\n",
    "\n",
    "Return the maximum profit you can achieve from this transaction. If you cannot achieve any profit, return 0.\n",
    "\n",
    " \n",
    "\n",
    "Example 1:\n",
    "\n",
    "Input: prices = [7,1,5,3,6,4]\n",
    "Output: 5\n",
    "Explanation: Buy on day 2 (price = 1) and sell on day 5 (price = 6), profit = 6-1 = 5.\n",
    "Note that buying on day 2 and selling on day 1 is not allowed because you must buy before you sell.\n",
    "Example 2:\n",
    "\n",
    "Input: prices = [7,6,4,3,1]\n",
    "Output: 0\n",
    "Explanation: In this case, no transactions are done and the max profit = 0.\n",
    " \n",
    "\n",
    "Constraints:\n",
    "\n",
    "1 <= prices.length <= 105\n",
    "0 <= prices[i] <= 104\n",
    "\n",
    "'''"
   ]
  },
  {
   "cell_type": "code",
   "execution_count": 61,
   "id": "c802791b-285e-431f-97db-4dda6f62afbd",
   "metadata": {},
   "outputs": [],
   "source": [
    "class Solution:\n",
    "    def maxProfit(self, prices: List[int]) -> int:\n",
    "        if prices is None or len(prices)<=1:\n",
    "            return 0\n",
    "        result = 0\n",
    "        low = prices[0]\n",
    "        for i in range(len(prices)):\n",
    "            low = min(low, prices[i])\n",
    "            result = max(result, prices[i] - low)\n",
    "        return result \n",
    "        \n",
    "\n"
   ]
  },
  {
   "cell_type": "code",
   "execution_count": 63,
   "id": "4f80f369-50be-48c4-ad62-487aa8828e97",
   "metadata": {},
   "outputs": [
    {
     "name": "stdout",
     "output_type": "stream",
     "text": [
      "[7, 1, 5, 3, 6, 4]\n",
      "5\n",
      "[7, 6, 4, 3, 1]\n",
      "0\n"
     ]
    }
   ],
   "source": [
    "def test(nums, expected):\n",
    "    s = Solution()\n",
    "    t = s.maxProfit(nums)\n",
    "    print(nums)\n",
    "    print(t)\n",
    "    assert t == expected\n",
    "test([7,1,5,3,6,4], 5)\n",
    "test([7,6,4,3,1], 0)"
   ]
  },
  {
   "cell_type": "code",
   "execution_count": null,
   "id": "1b2275a3-f50a-495c-aaaa-94e9b1acb233",
   "metadata": {},
   "outputs": [],
   "source": [
    "'''\n",
    "Given the root of a binary tree, return all root-to-leaf paths in any order.\n",
    "\n",
    "A leaf is a node with no children\n",
    "\n",
    "       1\n",
    "      / \\\n",
    "     2   3\n",
    "     \\  \n",
    "       5\n",
    " \n",
    "\n",
    "Example 1:\n",
    "\n",
    "\n",
    "Input: root = [1,2,3,null,5]\n",
    "Output: [\"1->2->5\",\"1->3\"]\n",
    "Example 2:\n",
    "\n",
    "Input: root = [1]\n",
    "Output: [\"1\"]\n",
    " \n",
    "\n",
    "Constraints:\n",
    "\n",
    "The number of nodes in the tree is in the range [1, 100].\n",
    "-100 <= Node.val <= 100\n",
    "\n",
    "'''"
   ]
  },
  {
   "cell_type": "code",
   "execution_count": null,
   "id": "7e513447-94a2-4074-88e3-1edf41b07380",
   "metadata": {},
   "outputs": [],
   "source": [
    "# Definition for a binary tree node.\n",
    "class TreeNode:\n",
    "    def __init__(self, val=0, left=None, right=None):\n",
    "        self.val = val\n",
    "        self.left = left\n",
    "        self.right = right\n"
   ]
  },
  {
   "cell_type": "code",
   "execution_count": null,
   "id": "7b90dcb5-ba11-4c3c-9912-222ab2694f51",
   "metadata": {},
   "outputs": [],
   "source": [
    "#recursive\n",
    "class Solution:\n",
    "    def binaryTreePaths(self, root):\n",
    "        \"\"\"\n",
    "        :type root: TreeNode\n",
    "        :rtype: List[str]\n",
    "        \"\"\"\n",
    "        def construct_paths(root, path):\n",
    "            if root:\n",
    "                path += str(root.val)\n",
    "                if not root.left and not root.right:  # if reach a leaf\n",
    "                    paths.append(path)  # update paths  \n",
    "                else:\n",
    "                    path += '->'  # extend the current path\n",
    "                    construct_paths(root.left, path)\n",
    "                    construct_paths(root.right, path)\n",
    "\n",
    "        paths = []\n",
    "        construct_paths(root, '')\n",
    "        return paths"
   ]
  },
  {
   "cell_type": "code",
   "execution_count": null,
   "id": "e8c8d276-3471-4dc8-9fd3-3ba80bfbf397",
   "metadata": {},
   "outputs": [],
   "source": [
    "#iteration\n",
    "class Solution:\n",
    "    def binaryTreePaths(self, root):\n",
    "        \"\"\"\n",
    "        :type root: TreeNode\n",
    "        :rtype: List[str]\n",
    "        \"\"\"\n",
    "        if not root:\n",
    "            return []\n",
    "        \n",
    "        paths = []\n",
    "        stack = [(root, str(root.val))]\n",
    "        while stack:\n",
    "            node, path = stack.pop()\n",
    "            if not node.left and not node.right:\n",
    "                paths.append(path)\n",
    "            if node.left:\n",
    "                stack.append((node.left, path + '->' + str(node.left.val)))\n",
    "            if node.right:\n",
    "                stack.append((node.right, path + '->' + str(node.right.val)))\n",
    "        \n",
    "        return paths"
   ]
  },
  {
   "cell_type": "code",
   "execution_count": null,
   "id": "2d51f998-4b3e-44a0-b19b-78100dc9e8e0",
   "metadata": {},
   "outputs": [],
   "source": [
    "'''\n",
    "BFS\n",
    "DFS (3 types)\n",
    "    - inorder traversal (left-root-right)\n",
    "    - preorder traversal (root-left-right)\n",
    "    - postorder traversal (left-right-root)\n",
    "\n",
    "\n",
    "'''"
   ]
  },
  {
   "cell_type": "code",
   "execution_count": 24,
   "id": "c6ebf90c-25eb-484f-8951-3207cb6fff9f",
   "metadata": {},
   "outputs": [
    {
     "name": "stdout",
     "output_type": "stream",
     "text": [
      "ab34\n"
     ]
    }
   ],
   "source": [
    "t = ['a', 'b', '3', '4']\n",
    "print(''.join(t))\n"
   ]
  },
  {
   "cell_type": "code",
   "execution_count": 7,
   "id": "3d75f292-74e5-44e3-8f4b-f59ce1710d68",
   "metadata": {},
   "outputs": [],
   "source": [
    "from collections import deque\n",
    "q = deque()"
   ]
  },
  {
   "cell_type": "code",
   "execution_count": 5,
   "id": "a80a65eb-0946-4c63-86cd-0386adbe5c44",
   "metadata": {},
   "outputs": [],
   "source": [
    "'''\n",
    "67. Add Binary\n",
    "Given two binary strings a and b, return their sum as a binary string.\n",
    "\n",
    "Example 1:\n",
    "\n",
    "Input: a = \"11\", b = \"1\"\n",
    "Output: \"100\"\n",
    "Example 2:\n",
    "\n",
    "Input: a = \"1010\", b = \"1011\"\n",
    "Output: \"10101\"\n",
    " \n",
    "\n",
    "Constraints:\n",
    "\n",
    "1 <= a.length, b.length <= 104\n",
    "a and b consist only of '0' or '1' characters.\n",
    "Each string does not contain leading zeros except for the zero itself.\n",
    "\n",
    "'''"
   ]
  },
  {
   "cell_type": "code",
   "execution_count": 23,
   "id": "994b0786-8d96-4164-b4e9-934705c153d2",
   "metadata": {},
   "outputs": [
    {
     "name": "stdout",
     "output_type": "stream",
     "text": [
      "100\n",
      "101\n",
      "1000\n"
     ]
    }
   ],
   "source": [
    "class Solution:\n",
    "    def addBinary(self, a: str, b: str) -> str:\n",
    "        n1 = len(a)\n",
    "        n2 = len(b)\n",
    "        if (n1 < n2): #make sure the first string is longer\n",
    "            return self.addBinary(b, a)\n",
    "        \n",
    "        carry=0\n",
    "        result=''\n",
    "        for i in range(n2):\n",
    "            c1=int(a[n1-i-1])\n",
    "            c2=int(b[n2-i-1])\n",
    "            r = c1+c2+carry\n",
    "            carry = int(r/2)\n",
    "            r = r%2\n",
    "            result = str(r)+result\n",
    "        for i in range(n2, n1):\n",
    "            c1 = int(a[n1-i-1])\n",
    "            r = c1+carry\n",
    "            carry = int(r/2)\n",
    "            r = r%2\n",
    "            result = str(r)+result\n",
    "        if carry==1:\n",
    "            result = str(carry) + result\n",
    "        return result\n",
    "'''\n",
    "class Solution: # cannot handle long string\n",
    "    def addBinary(self, a, b) -> str:\n",
    "        return '{0:b}'.format(int(a, 2) + int(b, 2))\n",
    "'''        \n",
    "        \n",
    "def test(a, b, expected):\n",
    "    s = Solution()\n",
    "    result = s.addBinary(a, b)\n",
    "    print(result)\n",
    "    assert result == expected\n",
    "\n",
    "test('11', '1', '100')\n",
    "test('11', '10', '101')\n",
    "test('11', '101', '1000')"
   ]
  },
  {
   "cell_type": "code",
   "execution_count": 11,
   "id": "9615219e-1c7f-426e-a5b3-4e15669c69f7",
   "metadata": {},
   "outputs": [
    {
     "name": "stdout",
     "output_type": "stream",
     "text": [
      "1\n"
     ]
    }
   ],
   "source": [
    "'''\n",
    "270. Closest Binary Search Tree Value\n",
    "Easy\n",
    "Given the root of a binary search tree and a target value, return the value in the BST that is closest to the target.\n",
    "\n",
    "Example 1:\n",
    "\n",
    "\n",
    "Input: root = [4,2,5,1,3], target = 3.714286\n",
    "Output: 4\n",
    "Example 2:\n",
    "\n",
    "Input: root = [1], target = 4.428571\n",
    "Output: 1\n",
    " \n",
    "\n",
    "Constraints:\n",
    "\n",
    "The number of nodes in the tree is in the range [1, 104].\n",
    "0 <= Node.val <= 109\n",
    "-109 <= target <= 109\n",
    "\n",
    "'''"
   ]
  },
  {
   "cell_type": "code",
   "execution_count": 27,
   "id": "1a3438b5-6a75-4291-a14f-daff9541bb83",
   "metadata": {},
   "outputs": [],
   "source": [
    "from typing import Optional\n",
    "# Definition for a binary tree node.\n",
    "class TreeNode:\n",
    "    def __init__(self, val=0, left=None, right=None):\n",
    "        self.val = val\n",
    "        self.left = left\n",
    "        self.right = right\n",
    "\n",
    "class Solution:\n",
    "    def closestValue(self, root: Optional[TreeNode], target: float) -> int:\n",
    "        ans = root.val\n",
    "        if target == root.val:\n",
    "            return root.val\n",
    "        elif target > root.val:\n",
    "            return self.checkNode(root.right, target, ans)\n",
    "        else:\n",
    "            return self.checkNode(root.left, target, ans)\n",
    "\n",
    "    \n",
    "    def checkNode(self, root, target, ans):\n",
    "        if root is None:\n",
    "            return ans\n",
    "        if target == root.val:\n",
    "            return root.val\n",
    "        if target > root.val:\n",
    "            if target > ans:      \n",
    "                ans = root.val\n",
    "                return self.checkNode(root.right, target, ans)\n",
    "            else:\n",
    "                if abs(root.val-target) < abs(target - ans):\n",
    "                    ans = root.val\n",
    "                return ans\n",
    "        else:\n",
    "            if target < ans:\n",
    "                ans = root.val\n",
    "                return self.checkNode(root.left, target, ans)\n",
    "            else:\n",
    "                if abs(root.val-target) < abs(target - ans):\n",
    "                    ans = root.val\n",
    "                return ans\n",
    "\n"
   ]
  },
  {
   "cell_type": "code",
   "execution_count": 28,
   "id": "9ae72e7c-a87a-4d63-b0e9-450745a140aa",
   "metadata": {},
   "outputs": [],
   "source": [
    "# answer\n",
    "class Solution:\n",
    "    def closestValue(self, root: TreeNode, target: float) -> int:\n",
    "        closest = root.val\n",
    "        while root:\n",
    "            closest = min(root.val, closest, key = lambda x: abs(target - x))\n",
    "            root = root.left if target < root.val else root.right\n",
    "        return closest"
   ]
  },
  {
   "cell_type": "code",
   "execution_count": 11,
   "id": "4b091256-a9b0-462a-a9c9-1606a0a22bad",
   "metadata": {},
   "outputs": [
    {
     "name": "stdout",
     "output_type": "stream",
     "text": [
      "b\n",
      "b\n"
     ]
    }
   ],
   "source": [
    "t = {'a':3, 'b':6, 'c':5}\n",
    "print(max(t, key=t.get))\n",
    "print(max(t, key=lambda x: t[x]))"
   ]
  },
  {
   "cell_type": "code",
   "execution_count": 12,
   "id": "5ab90dc3-afd9-4578-b02e-6e75468d7746",
   "metadata": {},
   "outputs": [
    {
     "data": {
      "text/plain": [
       "6"
      ]
     },
     "execution_count": 12,
     "metadata": {},
     "output_type": "execute_result"
    }
   ],
   "source": [
    "max(t.values())"
   ]
  },
  {
   "cell_type": "code",
   "execution_count": 13,
   "id": "d396a996-be9e-4d11-969f-ee34d5668cab",
   "metadata": {},
   "outputs": [
    {
     "data": {
      "text/plain": [
       "'\\n408. Valid Word Abbreviation\\nEasy\\n\\nA string can be abbreviated by replacing any number of non-adjacent substrings with their lengths. For example, a string such as \"substitution\" could be abbreviated as (but not limited to):\\n\\n\"s10n\" (\"s ubstitutio n\")\\n\"sub4u4\" (\"sub stit u tion\")\\n\"12\" (\"substitution\")\\n\"su3i1u2on\" (\"su bst i t u ti on\")\\n\"substitution\" (no substrings replaced)\\nNote that \"s55n\" (\"s ubsti tutio n\") is not a valid abbreviation of \"substitution\" because the replaced substrings are adjacent.\\n\\nGiven a string s and an abbreviation abbr, return whether the string matches with the given abbreviation.\\n\\n \\n\\nExample 1:\\n\\nInput: word = \"internationalization\", abbr = \"i12iz4n\"\\nOutput: true\\nExample 2:\\n\\nInput: word = \"apple\", abbr = \"a2e\"\\nOutput: false\\n \\n\\nConstraints:\\n\\n1 <= word.length <= 20\\nword consists of only lowercase English letters.\\n1 <= abrr.length <= 10\\nabbr consists of lowercase English letters and digits.\\nAll the integers in abrr will fit in a 32-bit integer.\\n'"
      ]
     },
     "execution_count": 13,
     "metadata": {},
     "output_type": "execute_result"
    }
   ],
   "source": [
    "'''\n",
    "408. Valid Word Abbreviation\n",
    "Easy\n",
    "\n",
    "A string can be abbreviated by replacing any number of non-adjacent substrings with their lengths. For example, a string such as \"substitution\" could be abbreviated as (but not limited to):\n",
    "\n",
    "\"s10n\" (\"s ubstitutio n\")\n",
    "\"sub4u4\" (\"sub stit u tion\")\n",
    "\"12\" (\"substitution\")\n",
    "\"su3i1u2on\" (\"su bst i t u ti on\")\n",
    "\"substitution\" (no substrings replaced)\n",
    "Note that \"s55n\" (\"s ubsti tutio n\") is not a valid abbreviation of \"substitution\" because the replaced substrings are adjacent.\n",
    "\n",
    "Given a string s and an abbreviation abbr, return whether the string matches with the given abbreviation.\n",
    "\n",
    " \n",
    "\n",
    "Example 1:\n",
    "\n",
    "Input: word = \"internationalization\", abbr = \"i12iz4n\"\n",
    "Output: true\n",
    "Example 2:\n",
    "\n",
    "Input: word = \"apple\", abbr = \"a2e\"\n",
    "Output: false\n",
    " \n",
    "\n",
    "Constraints:\n",
    "\n",
    "1 <= word.length <= 20\n",
    "word consists of only lowercase English letters.\n",
    "1 <= abrr.length <= 10\n",
    "abbr consists of lowercase English letters and digits.\n",
    "All the integers in abrr will fit in a 32-bit integer.\n",
    "'''"
   ]
  },
  {
   "cell_type": "code",
   "execution_count": 50,
   "id": "d6309bf4-81f4-455c-a5f3-c8f22ae6e35e",
   "metadata": {},
   "outputs": [
    {
     "name": "stdout",
     "output_type": "stream",
     "text": [
      "a=['i', '5', 'a', '11', 'o', '1']\n",
      "i=20\n",
      "True\n",
      "False\n",
      "False\n"
     ]
    }
   ],
   "source": [
    "class Solution:\n",
    "    def validWordAbbreviation(self, word: str, abbr: str) -> bool:\n",
    "        w = list(word)\n",
    "        # parsing abbr to char and number\n",
    "        a = []\n",
    "        num=0\n",
    "        for c in list(abbr):\n",
    "            if c.isdigit():\n",
    "                if num==0 and c=='0':\n",
    "                    return False #if the first digit of number is 0, error\n",
    "                num = num*10 + int(c)\n",
    "            else:\n",
    "                if num > 0:\n",
    "                    a.append(str(num))\n",
    "                    num=0\n",
    "                a.append(c)\n",
    "        if num>0:\n",
    "            a.append(str(num))\n",
    "            num=0\n",
    "        print(f'a={a}')\n",
    "        i=0\n",
    "        for c in a:\n",
    "            if c.isdigit():\n",
    "                i+=int(c)\n",
    "            elif i < len(w) and c == w[i]:\n",
    "                i += 1\n",
    "            else:\n",
    "                return False\n",
    "        print(f'i={i}')\n",
    "        return True if i==len(word) else False\n",
    "            \n",
    "def test(word, abbr, expected):\n",
    "    s = Solution()\n",
    "    ans = s.validWordAbbreviation(word, abbr)\n",
    "    print(ans)\n",
    "    assert ans==expected\n",
    "    \n",
    "#test('abcdefgh', 'a3e2h', True)\n",
    "#test('abcde', '4e', True)\n",
    "#test(\"internationalization\", \"i12iz4n\", True)            \n",
    "test(\"internationalization\", \"i5a11o1\", True)      \n",
    "test('a', '01', False)\n",
    "test('ab', 'ab0', False)\n",
    "        "
   ]
  },
  {
   "cell_type": "code",
   "execution_count": 22,
   "id": "9d3beca8-b5b6-4392-8e35-a0c1b354b662",
   "metadata": {},
   "outputs": [
    {
     "data": {
      "text/plain": [
       "12"
      ]
     },
     "execution_count": 22,
     "metadata": {},
     "output_type": "execute_result"
    }
   ],
   "source": [
    "# ans\n",
    "i = 0\n",
    "    j = 0\n",
    "    num = 0\n",
    "    s = ''\n",
    "    \n",
    "    while i < len(word) and j < len(abbr):\n",
    "        while j < len(abbr) and abbr[j].isdigit():\n",
    "            num = 10*num + int(abbr[j])\n",
    "            s += abbr[j]\n",
    "            j += 1\n",
    "        \n",
    "        if len(s) > 0 and s[0] == str(0):\n",
    "            return False\n",
    "        else:\n",
    "            i += num \n",
    "            num = 0\n",
    "            s = ''\n",
    "        if j < len(abbr) and i < len(word) and abbr[j].isalpha():\n",
    "            if word[i] != abbr[j]:\n",
    "                return False\n",
    "            i += 1\n",
    "            j += 1\n",
    "            \n",
    "    return True if i == len(word) and j == len(abbr) else False"
   ]
  },
  {
   "cell_type": "code",
   "execution_count": null,
   "id": "60e72812-82e0-4d7d-9d78-643cab806fda",
   "metadata": {},
   "outputs": [],
   "source": [
    "class Solution:\n",
    "    def validWordAbbreviation(self, word: str, abbr: str) -> bool:\n",
    "        \n",
    "        split = []\n",
    "        curr = ''\n",
    "        \n",
    "        for ch in abbr:\n",
    "            if ch.isalpha():\n",
    "                if curr:\n",
    "                    split.append(curr)\n",
    "                    curr = ''\n",
    "                split.append(ch)\n",
    "            else:\n",
    "                curr+=ch\n",
    "        \n",
    "        if curr:\n",
    "            split.append(curr)\n",
    "        \n",
    "        total = 0\n",
    "        for s in split:\n",
    "            if s.isnumeric():\n",
    "                if s[0] == '0':\n",
    "                    return False\n",
    "                total+=int(s)\n",
    "            else:\n",
    "                if total>=len(word) or word[total]!=s:\n",
    "                    return False\n",
    "                total+=1\n",
    "        \n",
    "        if total!=len(word):\n",
    "            return False\n",
    "        \n",
    "        return True"
   ]
  },
  {
   "cell_type": "code",
   "execution_count": 30,
   "id": "b4fea332-1271-4ba2-86d0-6d0b312f9183",
   "metadata": {},
   "outputs": [
    {
     "data": {
      "text/plain": [
       "['', '789', 'abc', '123', 'def', '456', '']"
      ]
     },
     "execution_count": 30,
     "metadata": {},
     "output_type": "execute_result"
    }
   ],
   "source": [
    "import re\n",
    "s='789abc123def456'\n",
    "re.split(r'(\\d+)', s)"
   ]
  },
  {
   "cell_type": "code",
   "execution_count": null,
   "id": "58696768-8a2b-4e6f-aef9-7ba18c9e3586",
   "metadata": {},
   "outputs": [],
   "source": []
  },
  {
   "cell_type": "code",
   "execution_count": 3,
   "id": "e96d2258-adf6-4003-a7d1-2090d1c0eec5",
   "metadata": {},
   "outputs": [
    {
     "data": {
      "text/plain": [
       "(False, False, False)"
      ]
     },
     "execution_count": 3,
     "metadata": {},
     "output_type": "execute_result"
    }
   ],
   "source": [
    "'12.3'.isdigit(), '12.3'.isdecimal(), '12.3'.isnumeric()"
   ]
  },
  {
   "cell_type": "code",
   "execution_count": 4,
   "id": "44d0856b-df3b-4978-bdb0-93c404e888ee",
   "metadata": {},
   "outputs": [
    {
     "data": {
      "text/plain": [
       "'\\n415. Add Strings\\nEasy\\n\\nGiven two non-negative integers, num1 and num2 represented as string, return the sum of num1 and num2 as a string.\\n\\nYou must solve the problem without using any built-in library for handling large integers (such as BigInteger). You must also not convert the inputs to integers directly.\\n\\n \\n\\nExample 1:\\n\\nInput: num1 = \"11\", num2 = \"123\"\\nOutput: \"134\"\\nExample 2:\\n\\nInput: num1 = \"456\", num2 = \"77\"\\nOutput: \"533\"\\nExample 3:\\n\\nInput: num1 = \"0\", num2 = \"0\"\\nOutput: \"0\"\\n \\n\\nConstraints:\\n\\n1 <= num1.length, num2.length <= 104\\nnum1 and num2 consist of only digits.\\nnum1 and num2 don\\'t have any leading zeros except for the zero itself.\\n\\n'"
      ]
     },
     "execution_count": 4,
     "metadata": {},
     "output_type": "execute_result"
    }
   ],
   "source": [
    "'''\n",
    "415. Add Strings\n",
    "Easy\n",
    "\n",
    "Given two non-negative integers, num1 and num2 represented as string, return the sum of num1 and num2 as a string.\n",
    "\n",
    "You must solve the problem without using any built-in library for handling large integers (such as BigInteger). You must also not convert the inputs to integers directly.\n",
    "\n",
    " \n",
    "\n",
    "Example 1:\n",
    "\n",
    "Input: num1 = \"11\", num2 = \"123\"\n",
    "Output: \"134\"\n",
    "Example 2:\n",
    "\n",
    "Input: num1 = \"456\", num2 = \"77\"\n",
    "Output: \"533\"\n",
    "Example 3:\n",
    "\n",
    "Input: num1 = \"0\", num2 = \"0\"\n",
    "Output: \"0\"\n",
    " \n",
    "\n",
    "Constraints:\n",
    "\n",
    "1 <= num1.length, num2.length <= 104\n",
    "num1 and num2 consist of only digits.\n",
    "num1 and num2 don't have any leading zeros except for the zero itself.\n",
    "\n",
    "'''"
   ]
  },
  {
   "cell_type": "code",
   "execution_count": 10,
   "id": "1016b905-888e-46ef-be36-9fb7ce4a943f",
   "metadata": {},
   "outputs": [
    {
     "name": "stdout",
     "output_type": "stream",
     "text": [
      "333\n",
      "1333\n",
      "10221\n"
     ]
    }
   ],
   "source": [
    "class Solution:\n",
    "    def addStrings(self, num1: str, num2: str) -> str:\n",
    "        n1 = len(num1)\n",
    "        n2 = len(num2)\n",
    "        if n2 > n1:\n",
    "            return self.addStrings(num2, num1)\n",
    "        carry=0\n",
    "        result=''\n",
    "        for i in range(n2):\n",
    "            a = int(num1[n1-i-1])\n",
    "            b = int(num2[n2-i-1])\n",
    "            s = a + b + carry\n",
    "            result = str(s%10) + result\n",
    "            carry = int(s/10)\n",
    "        \n",
    "        for i in range(n2, n1):\n",
    "            a = int(num1[n1-i-1])\n",
    "            s = a + carry\n",
    "            result = str(s%10) + result\n",
    "            carry = int(s/10)\n",
    "        \n",
    "        if carry>0:\n",
    "            result = str(carry) + result\n",
    "        return result;\n",
    "    \n",
    "def test(num1, num2, expected):\n",
    "    s = Solution()\n",
    "    c = s.addStrings(num1, num2)\n",
    "    print(c)\n",
    "    assert c==expected\n",
    "\n",
    "test('111', '222', '333')\n",
    "test('1111', '222', '1333')\n",
    "test('9999', '222', '10221')\n",
    "        "
   ]
  },
  {
   "cell_type": "code",
   "execution_count": 14,
   "id": "fc9642b3-a6b9-4cd2-bf80-264ffa368259",
   "metadata": {},
   "outputs": [
    {
     "name": "stdout",
     "output_type": "stream",
     "text": [
      "333\n",
      "1333\n",
      "10221\n"
     ]
    }
   ],
   "source": [
    "class Solution:\n",
    "    def addStrings(self, num1: str, num2: str) -> str:\n",
    "        res = []\n",
    "\n",
    "        carry = 0\n",
    "        p1 = len(num1) - 1\n",
    "        p2 = len(num2) - 1\n",
    "        while p1 >= 0 or p2 >= 0:\n",
    "            x1 = int(num1[p1]) if p1 >= 0 else 0\n",
    "            x2 = int(num2[p2]) if p2 >= 0 else 0\n",
    "            value = (x1 + x2 + carry) % 10\n",
    "            carry = (x1 + x2 + carry) // 10\n",
    "            res.append(value)\n",
    "            p1 -= 1\n",
    "            p2 -= 1\n",
    "        \n",
    "        if carry:\n",
    "            res.append(carry)\n",
    "        \n",
    "        return ''.join(str(x) for x in res[::-1])\n",
    "\n",
    "def test(num1, num2, expected):\n",
    "    s = Solution()\n",
    "    c = s.addStrings(num1, num2)\n",
    "    print(c)\n",
    "    assert c==expected\n",
    "\n",
    "test('111', '222', '333')\n",
    "test('1111', '222', '1333')\n",
    "test('9999', '222', '10221')\n"
   ]
  },
  {
   "cell_type": "code",
   "execution_count": 13,
   "id": "d1c08bac-bcfe-4d60-b996-50bac9dd41bd",
   "metadata": {},
   "outputs": [
    {
     "data": {
      "text/plain": [
       "int"
      ]
     },
     "execution_count": 13,
     "metadata": {},
     "output_type": "execute_result"
    }
   ],
   "source": [
    "type(ord('0'))"
   ]
  },
  {
   "cell_type": "code",
   "execution_count": null,
   "id": "fa0423e8-3bba-478e-925d-a3c5ddc2c3b1",
   "metadata": {},
   "outputs": [],
   "source": [
    "'''\n",
    "543. Diameter of Binary Tree\n",
    "Easy\n",
    "\n",
    "Given the root of a binary tree, return the length of the diameter of the tree.\n",
    "\n",
    "The diameter of a binary tree is the length of the longest path between any two nodes in a tree. This path may or may not pass through the root.\n",
    "\n",
    "The length of a path between two nodes is represented by the number of edges between them.\n",
    "\n",
    " \n",
    "\n",
    "Example 1:\n",
    "\n",
    "\n",
    "Input: root = [1,2,3,4,5]\n",
    "Output: 3\n",
    "Explanation: 3 is the length of the path [4,2,1,3] or [5,2,1,3].\n",
    "Example 2:\n",
    "\n",
    "Input: root = [1,2]\n",
    "Output: 1\n",
    "'''"
   ]
  },
  {
   "cell_type": "code",
   "execution_count": null,
   "id": "05da18d5-79a3-4d40-8849-9070cf0b0817",
   "metadata": {},
   "outputs": [],
   "source": [
    "from collections import deque\n",
    "def getHeightOfNode(self, root: TreeNode) -> int:\n",
    "    if root is None:\n",
    "            return 0\n",
    "        d = 0\n",
    "        q = deque()\n",
    "        q.append(root)\n",
    "        q.append(None)\n",
    "        while len(q)>0:\n",
    "            node = q.popleft()\n",
    "            if node is None:\n",
    "                d += 1\n",
    "                if len(q) > 0:\n",
    "                    q.append(None) \n",
    "            else:\n",
    "                if node.left is not None:\n",
    "                    q.append(node.left) \n",
    "                if node.right is not None:\n",
    "                    q.append(node.right) \n",
    "        return d"
   ]
  },
  {
   "cell_type": "code",
   "execution_count": null,
   "id": "ddc79a09-da91-4a30-b610-4b0dc15a6943",
   "metadata": {},
   "outputs": [],
   "source": [
    "from collections import dequeue\n",
    "class TreeNode:\n",
    "    def __init__(self, val=0, left=None, right=None):\n",
    "        self.val = val\n",
    "        self.left = left\n",
    "        self.right = right\n",
    "class Solution:\n",
    "    def diameterOfBinaryTree(self, root: TreeNode) -> int:\n",
    "        result = 0\n",
    "        \n",
    "        def getLongestPath(node):\n",
    "            if node is None:\n",
    "                return 0\n",
    "            \n",
    "            nonlocal result\n",
    "            left_path = getLongestPath(node.left)\n",
    "            right_path = getLongestPath(node.right)\n",
    "            result = max(result, left_path+right_path+1) \n",
    "            \n",
    "            return max(left_path, right_path) +1 \n",
    "        \n",
    "        getLongestPath(root)\n",
    "        return result\n",
    "\n"
   ]
  },
  {
   "cell_type": "code",
   "execution_count": 27,
   "id": "965b787f-0939-466c-81eb-97321159464e",
   "metadata": {},
   "outputs": [
    {
     "name": "stdout",
     "output_type": "stream",
     "text": [
      "3\n",
      "5\n",
      "2\n",
      "1\n",
      "4\n",
      "6\n",
      "7\n",
      "8\n",
      "9\n",
      "10\n",
      "11\n",
      "12\n",
      "13\n",
      "14\n"
     ]
    }
   ],
   "source": [
    "from collections import deque\n",
    "class TreeNode:\n",
    "    def __init__(self, val=0, left=None, right=None):\n",
    "        self.val = val\n",
    "        self.left = left\n",
    "        self.right = right\n",
    "\n",
    "def list_to_treenode(a) -> TreeNode:\n",
    "    ''' \n",
    "    create a list of tree nodes with same index position as data list\n",
    "    Then, we can fix up the left- and right links.\n",
    "    '''\n",
    "    nodelist = [TreeNode(val=x) for x in a]\n",
    "    count = len(nodelist)\n",
    "    for index, node in enumerate(nodelist):\n",
    "        left_index = 2*index+1\n",
    "        right_index = 2*index+2\n",
    "        if left_index<count:\n",
    "            node.left = nodelist[left_index]\n",
    "        if right_index<count:\n",
    "            node.right = nodelist[right_index]            \n",
    "    return nodelist[0] # root\n",
    "\n",
    "def list_to_tree_bfs(a)->TreeNode:\n",
    "    ''' simulate bfs to create tree'''\n",
    "    n = iter(data)\n",
    "    tree = Node(next(n))\n",
    "    q = deque([tree])\n",
    "    while True:\n",
    "        head = q.popleft()\n",
    "        try:\n",
    "            head.left = Node(next(n))\n",
    "            q.append(head.left)\n",
    "            head.right = Node(next(n))\n",
    "            q.append(head.right)\n",
    "        except StopIteration:\n",
    "            break\n",
    "\n",
    "def print_node(node):\n",
    "    q = deque()\n",
    "    q.append(node)\n",
    "    while len(q) > 0:\n",
    "        n = q.popleft()\n",
    "        if n.left is not None:\n",
    "            q.append(n.left) \n",
    "        if n.right is not None:\n",
    "            q.append(n.right) \n",
    "        print(n.val)\n",
    "\n",
    "a=[3,5,2,1,4,6,7,8,9,10,11,12,13,14]\n",
    "root = list_to_treenode(a)\n",
    "print_node(root)"
   ]
  },
  {
   "cell_type": "code",
   "execution_count": null,
   "id": "5934cf2f-98c0-45b2-abb5-32952f1dc0aa",
   "metadata": {},
   "outputs": [],
   "source": [
    "'''\n",
    "1539. Kth Missing Positive Number\n",
    "Easy\n",
    "\n",
    "Given an array arr of positive integers sorted in a strictly increasing order, and an integer k.\n",
    "\n",
    "Find the kth positive integer that is missing from this array.\n",
    "\n",
    " \n",
    "\n",
    "Example 1:\n",
    "\n",
    "Input: arr = [2,3,4,7,11], k = 5\n",
    "Output: 9\n",
    "Explanation: The missing positive integers are [1,5,6,8,9,10,12,13,...]. The 5th missing positive integer is 9.\n",
    "Example 2:\n",
    "\n",
    "Input: arr = [1,2,3,4], k = 2\n",
    "Output: 6\n",
    "Explanation: The missing positive integers are [5,6,7,...]. The 2nd missing positive integer is 6.\n",
    " \n",
    "\n",
    "Constraints:\n",
    "\n",
    "1 <= arr.length <= 1000\n",
    "1 <= arr[i] <= 1000\n",
    "1 <= k <= 1000\n",
    "arr[i] < arr[j] for 1 <= i < j <= arr.length\n",
    "\n",
    "'''"
   ]
  },
  {
   "cell_type": "code",
   "execution_count": 36,
   "id": "fb75f0d6-ba7b-493c-81bc-3ab3403aa4c6",
   "metadata": {},
   "outputs": [
    {
     "name": "stdout",
     "output_type": "stream",
     "text": [
      "left=0, right=2\n",
      "pivot=1\n",
      "left=2, right=2\n",
      "pivot=2\n",
      "final left=2, right=1\n",
      "4\n",
      "6\n",
      "left=0, right=3\n",
      "pivot=1\n",
      "left=2, right=3\n",
      "pivot=2\n",
      "left=3, right=3\n",
      "pivot=3\n",
      "final left=3, right=2\n",
      "7\n"
     ]
    }
   ],
   "source": [
    "from typing import List\n",
    "class Solution:\n",
    "    def findKthPositive_bruteforce(self, arr: List[int], k: int) -> int:\n",
    "        miss=0\n",
    "        pre=0\n",
    "        result = 0\n",
    "\n",
    "        for b in arr:\n",
    "            if b-pre>1:\n",
    "                miss += b-pre-1\n",
    "            pre = b\n",
    "            if miss >= k:\n",
    "                result = b - (miss -k) -1\n",
    "                break\n",
    "        if miss < k:\n",
    "            result = arr[-1] + (k-miss)\n",
    "        return result\n",
    "    \n",
    "    def findKthPositive(self, arr: List[int], k: int) -> int:\n",
    "        #check if missing number is out of range\n",
    "        result = 0\n",
    "        miss = arr[-1] - len(arr) #len is index+1\n",
    "        if miss < k: #out of range\n",
    "            result = arr[-1] + (k-miss)\n",
    "            return result\n",
    "        \n",
    "        \n",
    "        left = 0\n",
    "        right = len(arr) - 1\n",
    "        while left <= right:\n",
    "            print(f'left={left}, right={right}')\n",
    "            pivot = (left + right) // 2\n",
    "            print(f'pivot={pivot}')\n",
    "            if arr[pivot] - pivot -1 < k:\n",
    "                left = pivot + 1\n",
    "            else:\n",
    "                right = pivot -1\n",
    "        \n",
    "        print(f'final left={left}, right={right}')\n",
    "        result = left + k\n",
    "        return result\n",
    "    \n",
    "def test(arr, k, expected):\n",
    "    s = Solution()\n",
    "    c = s.findKthPositive(arr, k)\n",
    "    print(c)\n",
    "    assert c==expected\n",
    "\n",
    "test([1,3,5], 2, 4)\n",
    "test([1,3,5], 3, 6)\n",
    "test([1,3,5,10], 4, 7)"
   ]
  },
  {
   "cell_type": "code",
   "execution_count": null,
   "id": "40fe3836-4caf-4fbc-a2e9-d1b2bcdc3dee",
   "metadata": {},
   "outputs": [],
   "source": [
    "idx: 0, 1, 2, 3, 4, 5\n",
    "val: 2, 3, 4, 5, 6, 8\n",
    "\n"
   ]
  },
  {
   "cell_type": "code",
   "execution_count": 29,
   "id": "8502cc10-4f69-45ee-a483-4cc5c985cf54",
   "metadata": {},
   "outputs": [
    {
     "data": {
      "text/plain": [
       "(3.5, 3)"
      ]
     },
     "execution_count": 29,
     "metadata": {},
     "output_type": "execute_result"
    }
   ],
   "source": [
    "7/2, 7//2"
   ]
  },
  {
   "cell_type": "code",
   "execution_count": null,
   "id": "85cdbc34-03a4-47b3-8278-22c72144b01b",
   "metadata": {},
   "outputs": [],
   "source": [
    "# solution\n",
    "class Solution:\n",
    "    def findKthPositive(self, arr: List[int], k: int) -> int:\n",
    "        left, right = 0, len(arr) - 1\n",
    "        while left <= right:\n",
    "            pivot = (left + right) // 2\n",
    "            # If number of positive integers\n",
    "            # which are missing before arr[pivot]\n",
    "            # is less than k -->\n",
    "            # continue to search on the right.\n",
    "            if arr[pivot] - pivot - 1 < k:\n",
    "                left = pivot + 1\n",
    "            # Otherwise, go left.\n",
    "            else:\n",
    "                right = pivot - 1\n",
    "\n",
    "        # At the end of the loop, left = right + 1,\n",
    "        # and the kth missing is in-between arr[right] and arr[left].\n",
    "        # The number of integers missing before arr[right] is\n",
    "        # arr[right] - right - 1 -->\n",
    "        # the number to return is\n",
    "        # arr[right] + k - (arr[right] - right - 1) = k + left\n",
    "        return left + k"
   ]
  },
  {
   "cell_type": "code",
   "execution_count": null,
   "id": "21124912-5889-4a89-bafe-ac76fc0753da",
   "metadata": {},
   "outputs": [],
   "source": [
    "'''\n",
    "1047. Remove All Adjacent Duplicates In String\n",
    "Easy\n",
    "\n",
    "You are given a string s consisting of lowercase English letters. A duplicate removal consists of choosing two adjacent and equal letters and removing them.\n",
    "\n",
    "We repeatedly make duplicate removals on s until we no longer can.\n",
    "\n",
    "Return the final string after all such duplicate removals have been made. It can be proven that the answer is unique.\n",
    "\n",
    " \n",
    "\n",
    "Example 1:\n",
    "\n",
    "Input: s = \"abbaca\"\n",
    "Output: \"ca\"\n",
    "Explanation: \n",
    "For example, in \"abbaca\" we could remove \"bb\" since the letters are adjacent and equal, and this is the only possible move.  The result of this move is that the string is \"aaca\", of which only \"aa\" is possible, so the final string is \"ca\".\n",
    "Example 2:\n",
    "\n",
    "Input: s = \"azxxzy\"\n",
    "Output: \"ay\"\n",
    " \n",
    "\n",
    "Constraints:\n",
    "\n",
    "1 <= s.length <= 105\n",
    "s consists of lowercase English letters.\n",
    "'''"
   ]
  },
  {
   "cell_type": "code",
   "execution_count": 7,
   "id": "d64a79de-f4d1-4976-af25-38ada856560e",
   "metadata": {},
   "outputs": [
    {
     "name": "stdout",
     "output_type": "stream",
     "text": [
      "b\n",
      "\n"
     ]
    }
   ],
   "source": [
    "class Solution:\n",
    "    def removeDuplicates(self, s: str) -> str:\n",
    "        if len(s) <= 1:\n",
    "            return s\n",
    "        \n",
    "        result = []\n",
    "        for c in s:\n",
    "            if len(result)>0 and c==result[-1]:\n",
    "                result.pop()\n",
    "            else:\n",
    "                result.append(c)\n",
    "        \n",
    "        return ''.join(result)\n",
    "\n",
    "def test(s, expected):\n",
    "    obj = Solution()\n",
    "    c = obj.removeDuplicates(s)\n",
    "    print(c)\n",
    "    assert c==expected\n",
    "            \n",
    "test('aab', 'b')   \n",
    "test('abccba', '')"
   ]
  },
  {
   "cell_type": "code",
   "execution_count": 4,
   "id": "8607321e-dbf8-41c0-a2c7-aecdff1acd03",
   "metadata": {},
   "outputs": [
    {
     "data": {
      "text/plain": [
       "2"
      ]
     },
     "execution_count": 4,
     "metadata": {},
     "output_type": "execute_result"
    }
   ],
   "source": [
    "'''\n",
    "953. Verifying an Alien Dictionary\n",
    "Easy\n",
    "\n",
    "In an alien language, surprisingly, they also use English lowercase letters, but possibly in a different order. The order of the alphabet is some permutation of lowercase letters.\n",
    "\n",
    "Given a sequence of words written in the alien language, and the order of the alphabet, return true if and only if the given words are sorted lexicographically in this alien language.\n",
    "\n",
    " \n",
    "\n",
    "Example 1:\n",
    "\n",
    "Input: words = [\"hello\",\"leetcode\"], order = \"hlabcdefgijkmnopqrstuvwxyz\"\n",
    "Output: true\n",
    "Explanation: As 'h' comes before 'l' in this language, then the sequence is sorted.\n",
    "Example 2:\n",
    "\n",
    "Input: words = [\"word\",\"world\",\"row\"], order = \"worldabcefghijkmnpqstuvxyz\"\n",
    "Output: false\n",
    "Explanation: As 'd' comes after 'l' in this language, then words[0] > words[1], hence the sequence is unsorted.\n",
    "Example 3:\n",
    "\n",
    "Input: words = [\"apple\",\"app\"], order = \"abcdefghijklmnopqrstuvwxyz\"\n",
    "Output: false\n",
    "Explanation: The first three characters \"app\" match, and the second string is shorter (in size.) According to lexicographical rules \"apple\" > \"app\", because 'l' > '∅', where '∅' is defined as the blank character which is less than any other character (More info).\n",
    " \n",
    "\n",
    "Constraints:\n",
    "\n",
    "1 <= words.length <= 100\n",
    "1 <= words[i].length <= 20\n",
    "order.length == 26\n",
    "All characters in words[i] and order are English lowercase letters.\n",
    "'''"
   ]
  },
  {
   "cell_type": "code",
   "execution_count": 26,
   "id": "6c3fbd61-0605-4669-ba24-d6d16ce75350",
   "metadata": {},
   "outputs": [
    {
     "name": "stdout",
     "output_type": "stream",
     "text": [
      "True\n",
      "False\n",
      "True\n"
     ]
    }
   ],
   "source": [
    "from typing import List\n",
    "class Solution:\n",
    "    def isAlienSorted2(self, words: List[str], order: str) -> bool:\n",
    "        def compare(word1, word2, order)->int:\n",
    "            #same length, n1>n2, n1<n2\n",
    "            i=0\n",
    "            while i<len(word1) and i<len(word2):\n",
    "                idx1 = order.find(word1[i])\n",
    "                idx2 = order.find(word2[i])\n",
    "                if idx1 > idx2:\n",
    "                    return 1\n",
    "                elif idx1 < idx2:\n",
    "                    return -1\n",
    "                else: #idx1 == idx2\n",
    "                    i += 1\n",
    "            if len(word1) == len(word2):\n",
    "                return 0\n",
    "            elif len(word1) < len(word2):\n",
    "                return -1\n",
    "            else:\n",
    "                return 1\n",
    "                    \n",
    "        for i in range(1, len(words)):\n",
    "            if compare(words[i-1], words[i], order) > 0:\n",
    "                return False\n",
    "        return True\n",
    "\n",
    "    def isAlienSorted(self, words: List[str], order: str) -> bool:     \n",
    "        seq = {y:x for x, y in enumerate(order)}\n",
    "        def compare(word1, word2)->bool:\n",
    "            nonlocal seq\n",
    "            minlen = min(len(word1), len(word2))\n",
    "            i=0\n",
    "            while i<minlen:\n",
    "                if seq[word1[i]] > seq[word2[i]]:\n",
    "                    return False\n",
    "                elif seq[word1[i]] < seq[word2[i]]:\n",
    "                    return True\n",
    "                else:\n",
    "                    i += 1\n",
    "            return minlen == len(word1) \n",
    "        i=1\n",
    "        while i < len(words):\n",
    "            if compare(words[i-1], words[i]):\n",
    "                i += 1\n",
    "            else:\n",
    "                return False\n",
    "        return True\n",
    "\n",
    "        \n",
    "        \n",
    "def test(words, order, expected):\n",
    "    obj = Solution()\n",
    "    c = obj.isAlienSorted(words, order)\n",
    "    print(c)\n",
    "    assert c==expected\n",
    "test([\"hello\",\"hello\"], \"abcdefghijklmnopqrstuvwxyz\", True)\n",
    "test([\"word\",\"world\",\"row\"], \"worldabcefghijkmnpqstuvxyz\", False)\n",
    "test([\"hello\",\"leetcode\"], \"hlabcdefgijkmnopqrstuvwxyz\", True)"
   ]
  },
  {
   "cell_type": "code",
   "execution_count": null,
   "id": "e3624f99-65ca-4044-8060-50c0fd01259a",
   "metadata": {},
   "outputs": [],
   "source": [
    "'''\n",
    "938. Range Sum of BST\n",
    "Easy\n",
    "Given the root node of a binary search tree and two integers low and high, return the sum of values of all nodes with a value in the inclusive range [low, high].\n",
    "\n",
    " \n",
    "\n",
    "Example 1:\n",
    "\n",
    "\n",
    "Input: root = [10,5,15,3,7,null,18], low = 7, high = 15\n",
    "Output: 32\n",
    "Explanation: Nodes 7, 10, and 15 are in the range [7, 15]. 7 + 10 + 15 = 32.\n",
    "Example 2:\n",
    "\n",
    "\n",
    "Input: root = [10,5,15,3,7,13,18,1,null,6], low = 6, high = 10\n",
    "Output: 23\n",
    "Explanation: Nodes 6, 7, and 10 are in the range [6, 10]. 6 + 7 + 10 = 23.\n",
    " \n",
    "\n",
    "Constraints:\n",
    "\n",
    "The number of nodes in the tree is in the range [1, 2 * 104].\n",
    "1 <= Node.val <= 105\n",
    "1 <= low <= high <= 105\n",
    "All Node.val are unique.\n",
    "'''"
   ]
  },
  {
   "cell_type": "code",
   "execution_count": 31,
   "id": "61bc4899-1553-4e9a-9b5a-b27c71e1cb17",
   "metadata": {},
   "outputs": [],
   "source": [
    "# Definition for a binary tree node.\n",
    "# class TreeNode:\n",
    "#     def __init__(self, val=0, left=None, right=None):\n",
    "#         self.val = val\n",
    "#         self.left = left\n",
    "#         self.right = right\n",
    "from collections import deque\n",
    "from typing import Optional\n",
    "class Solution:\n",
    "    def rangeSumBST(self, root: Optional[TreeNode], low: int, high: int) -> int:\n",
    "        result=[]\n",
    "        q = deque()\n",
    "        q.append(root)\n",
    "        while len(q) > 0:\n",
    "            node = q.popleft()\n",
    "            if node is None:\n",
    "                continue\n",
    "            if node.val>=low and node.val<=high:\n",
    "                result.append(node.val)\n",
    "            q.append(node.left)\n",
    "            q.append(node.right)\n",
    "        return sum(result)"
   ]
  },
  {
   "cell_type": "code",
   "execution_count": null,
   "id": "286c047b-6ac4-44e7-b806-aa66f8cff178",
   "metadata": {},
   "outputs": [],
   "source": [
    "'''\n",
    "680. Valid Palindrome II\n",
    "Easy\n",
    "\n",
    "Given a string s, return true if the s can be palindrome after deleting at most one character from it.\n",
    "\n",
    " \n",
    "\n",
    "Example 1:\n",
    "\n",
    "Input: s = \"aba\"\n",
    "Output: true\n",
    "Example 2:\n",
    "\n",
    "Input: s = \"abca\"\n",
    "Output: true\n",
    "Explanation: You could delete the character 'c'.\n",
    "Example 3:\n",
    "\n",
    "Input: s = \"abc\"\n",
    "Output: false\n",
    "'''"
   ]
  },
  {
   "cell_type": "code",
   "execution_count": 36,
   "id": "fd5afb60-f325-48af-a616-1c09188c16b5",
   "metadata": {},
   "outputs": [
    {
     "name": "stdout",
     "output_type": "stream",
     "text": [
      "i=19, j=81, s=aguokepatgbnvfqmgml\n",
      "True\n"
     ]
    }
   ],
   "source": [
    "class Solution:\n",
    "    def validPalindrome(self, s: str) -> bool:\n",
    "        i=0\n",
    "        j=len(s)-1\n",
    "        while i<j and s[i]==s[j]:\n",
    "            i+=1\n",
    "            j-=1\n",
    "        if (i-j>=0 and i-j<=1):\n",
    "            return True\n",
    "        \n",
    "        if s[i+1] != s[j] and s[i] != s[j-1]:\n",
    "            return False\n",
    "        \n",
    "        print(f'i={i}, j={j}, s={s[0:i]}')\n",
    "        #case 1\n",
    "        if s[i+1] == s[j]: #skip i\n",
    "            i2 = i+1\n",
    "            j2 = j\n",
    "        while i2<j2 and s[i2]==s[j2]:\n",
    "            i2+=1\n",
    "            j2-=1\n",
    "        if (i2-j2>=0 and i2-j2<=1):\n",
    "            return True  \n",
    "        \n",
    "        #case 2\n",
    "        if s[i] == s[j-1]: #skip j\n",
    "            i = i\n",
    "            j = j-1\n",
    "        \n",
    "        while i<j and s[i]==s[j]:\n",
    "            i+=1\n",
    "            j-=1\n",
    "        if (i-j>=0 and i-j<=1):\n",
    "            return True    \n",
    "        else:\n",
    "            return False\n",
    "def test(s, expected):\n",
    "    obj = Solution()\n",
    "    c = obj.validPalindrome(s)\n",
    "    print(c)\n",
    "    assert c==expected\n",
    "test(\"aguokepatgbnvfqmgmlcupuufxoohdfpgjdmysgvhmvffcnqxjjxqncffvmhvgsymdjgpfdhooxfuupuculmgmqfvnbgtapekouga\", True)"
   ]
  },
  {
   "cell_type": "code",
   "execution_count": null,
   "id": "e14ccd9c-916e-47fb-99fd-7d611a4b2662",
   "metadata": {},
   "outputs": [],
   "source": [
    "# solution\n",
    "class Solution:\n",
    "    def validPalindrome(self, s: str) -> bool:\n",
    "\n",
    "        if s == s[::-1]:\n",
    "            return True\n",
    "        i, j = 0, len(s) - 1\n",
    "        while i <= j:\n",
    "            if s[i] != s[j]:\n",
    "                s1, s2 = s[i + 1: j + 1], s[i: j]\n",
    "                break\n",
    "            i , j = i + 1, j - 1\n",
    "\n",
    "        return s1 == s1[::-1] or s2 == s2[::-1]"
   ]
  },
  {
   "cell_type": "code",
   "execution_count": null,
   "id": "5c16dfe3-0429-4180-b591-f06c00b48220",
   "metadata": {},
   "outputs": [],
   "source": []
  },
  {
   "cell_type": "code",
   "execution_count": null,
   "id": "a38aa116-014c-42d7-bba7-ebf07ba9150e",
   "metadata": {},
   "outputs": [],
   "source": []
  },
  {
   "cell_type": "code",
   "execution_count": null,
   "id": "2ca3a153-00d9-4897-9f00-69281e47b204",
   "metadata": {},
   "outputs": [],
   "source": []
  },
  {
   "cell_type": "code",
   "execution_count": null,
   "id": "951f8a22-c767-42c9-8d2e-0c503caba1bb",
   "metadata": {},
   "outputs": [],
   "source": []
  },
  {
   "cell_type": "code",
   "execution_count": null,
   "id": "2a7e0a10-05fc-4408-ad5f-96165df86e93",
   "metadata": {},
   "outputs": [],
   "source": []
  },
  {
   "cell_type": "code",
   "execution_count": null,
   "id": "f020deb7-750e-41cc-b83d-9dd006db12fd",
   "metadata": {},
   "outputs": [],
   "source": []
  },
  {
   "cell_type": "code",
   "execution_count": null,
   "id": "e5ecb800-1a64-42b4-8705-d791cc81f574",
   "metadata": {},
   "outputs": [],
   "source": []
  }
 ],
 "metadata": {
  "kernelspec": {
   "display_name": "Python 3 (ipykernel)",
   "language": "python",
   "name": "python3"
  },
  "language_info": {
   "codemirror_mode": {
    "name": "ipython",
    "version": 3
   },
   "file_extension": ".py",
   "mimetype": "text/x-python",
   "name": "python",
   "nbconvert_exporter": "python",
   "pygments_lexer": "ipython3",
   "version": "3.8.11"
  }
 },
 "nbformat": 4,
 "nbformat_minor": 5
}
